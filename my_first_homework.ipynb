{
 "cells": [
  {
   "cell_type": "markdown",
   "id": "9b908e3d-e755-48ef-881d-712d9e080178",
   "metadata": {},
   "source": [
    "นายภัคพล แก้วคำ \n",
    "รหัส 6712732115"
   ]
  },
  {
   "cell_type": "code",
   "execution_count": 1,
   "id": "16f9125d-7585-45e2-b703-57cbfc171e43",
   "metadata": {},
   "outputs": [
    {
     "name": "stdout",
     "output_type": "stream",
     "text": [
      "Hello World\n"
     ]
    }
   ],
   "source": [
    "print(\"Hello World\")"
   ]
  },
  {
   "cell_type": "code",
   "execution_count": null,
   "id": "17a4fb28-2085-4be1-b112-858f1fa85663",
   "metadata": {},
   "outputs": [],
   "source": []
  }
 ],
 "metadata": {
  "kernelspec": {
   "display_name": "Python 3 (ipykernel)",
   "language": "python",
   "name": "python3"
  },
  "language_info": {
   "codemirror_mode": {
    "name": "ipython",
    "version": 3
   },
   "file_extension": ".py",
   "mimetype": "text/x-python",
   "name": "python",
   "nbconvert_exporter": "python",
   "pygments_lexer": "ipython3",
   "version": "3.13.0"
  }
 },
 "nbformat": 4,
 "nbformat_minor": 5
}
